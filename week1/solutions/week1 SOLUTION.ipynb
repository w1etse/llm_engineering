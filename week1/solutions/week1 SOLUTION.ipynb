{
 "cells": [
  {
   "cell_type": "markdown",
   "id": "fe12c203-e6a6-452c-a655-afb8a03a4ff5",
   "metadata": {},
   "source": [
    "# End of week 1 solution\n",
    "\n",
    "To demonstrate your familiarity with OpenAI API, and also Ollama, build a tool that takes a technical question,  \n",
    "and responds with an explanation. This is a tool that you will be able to use yourself during the course!\n",
    "\n",
    "After week 2 you'll be able to add a User Interface to this tool, giving you a valuable application."
   ]
  },
  {
   "cell_type": "code",
   "execution_count": 1,
   "id": "c1070317-3ed9-4659-abe3-828943230e03",
   "metadata": {},
   "outputs": [],
   "source": [
    "# imports\n",
    "\n",
    "from dotenv import load_dotenv\n",
    "from IPython.display import Markdown, display, update_display\n",
    "from openai import OpenAI\n",
    "import ollama"
   ]
  },
  {
   "cell_type": "code",
   "execution_count": 2,
   "id": "4a456906-915a-4bfd-bb9d-57e505c5093f",
   "metadata": {},
   "outputs": [],
   "source": [
    "# constants\n",
    "\n",
    "MODEL_GPT = 'gpt-4o-mini'\n",
    "MODEL_LLAMA = 'llama3.2'"
   ]
  },
  {
   "cell_type": "code",
   "execution_count": 3,
   "id": "a8d7923c-5f28-4c30-8556-342d7c8497c1",
   "metadata": {},
   "outputs": [],
   "source": [
    "# set up environment\n",
    "\n",
    "load_dotenv()\n",
    "openai = OpenAI()\n"
   ]
  },
  {
   "cell_type": "code",
   "execution_count": 4,
   "id": "3f0d0137-52b0-47a8-81a8-11a90a010798",
   "metadata": {},
   "outputs": [],
   "source": [
    "# here is the question; type over this to ask something new\n",
    "\n",
    "question = \"\"\"\n",
    "Please explain what this code does and why:\n",
    "yield from {book.get(\"author\") for book in books if book.get(\"author\")}\n",
    "\"\"\""
   ]
  },
  {
   "cell_type": "code",
   "execution_count": 5,
   "id": "8595807b-8ae2-4e1b-95d9-e8532142e8bb",
   "metadata": {},
   "outputs": [],
   "source": [
    "# prompts\n",
    "\n",
    "system_prompt = \"You are a helpful technical tutor who answers questions about python code, software engineering, data science and LLMs\"\n",
    "user_prompt = \"Please give a detailed explanation to the following question: \" + question"
   ]
  },
  {
   "cell_type": "code",
   "execution_count": 6,
   "id": "9605cbb6-3d3f-4969-b420-7f4cae0b9328",
   "metadata": {},
   "outputs": [],
   "source": [
    "# messages\n",
    "\n",
    "messages = [\n",
    "    {\"role\": \"system\", \"content\": system_prompt},\n",
    "    {\"role\": \"user\", \"content\": user_prompt}\n",
    "]"
   ]
  },
  {
   "cell_type": "code",
   "execution_count": 7,
   "id": "60ce7000-a4a5-4cce-a261-e75ef45063b4",
   "metadata": {},
   "outputs": [
    {
     "data": {
      "text/markdown": [
       "Certainly! Let's break down the given code snippet step by step to understand what it does and why it might be written that way.\n",
       "\n",
       "### Code Explanation\n",
       "\n",
       "The code snippet you've shared is:\n",
       "\n",
       "python\n",
       "yield from {book.get(\"author\") for book in books if book.get(\"author\")}\n",
       "\n",
       "\n",
       "This code can be broken down into three main components:\n",
       "\n",
       "1. **Set Comprehension**: \n",
       "   python\n",
       "   {book.get(\"author\") for book in books if book.get(\"author\")}\n",
       "   \n",
       "   - This part of the code is a set comprehension, which is used to create a set.\n",
       "   - It iterates over a collection called `books`, which is expected to be a list (or any iterable) of dictionaries.\n",
       "   - For each `book` in the `books`, it attempts to retrieve the value associated with the key `\"author\"` using the `get` method.\n",
       "   - The condition `if book.get(\"author\")` filters out any books where the author is `None` or an empty string. This means only books with a non-empty author value will be included in the resulting set.\n",
       "   - The resultant set will only contain unique authors, as sets by definition do not allow duplicate values.\n",
       "\n",
       "2. **The `yield from` Statement**:\n",
       "   python\n",
       "   yield from ...\n",
       "   \n",
       "   - This is used in a generator function context. The `yield from` expression allows a generator to yield all values from an iterable (in this case, the set created by the comprehension).\n",
       "   - Essentially, when the generator is iterated over, it will produce each author from the set, one at a time.\n",
       "\n",
       "### Summary of Functionality\n",
       "\n",
       "Putting it all together, this line of code creates a generator that yields the unique authors from a list of books while ignoring any missing or empty author names. \n",
       "\n",
       "### Example\n",
       "\n",
       "Let's consider a hypothetical `books` variable as an example:\n",
       "\n",
       "python\n",
       "books = [\n",
       "    {\"title\": \"Book 1\", \"author\": \"Author A\"},\n",
       "    {\"title\": \"Book 2\", \"author\": \"Author B\"},\n",
       "    {\"title\": \"Book 3\", \"author\": \"Author A\"},\n",
       "    {\"title\": \"Book 4\", \"author\": None},\n",
       "    {\"title\": \"Book 5\", \"author\": \"\"},\n",
       "]\n",
       "\n",
       "\n",
       "If we execute the given code as part of a generator function:\n",
       "\n",
       "python\n",
       "def get_authors(books):\n",
       "    yield from {book.get(\"author\") for book in books if book.get(\"author\")}\n",
       "\n",
       "# Using the generator\n",
       "for author in get_authors(books):\n",
       "    print(author)\n",
       "\n",
       "\n",
       "The output will be:\n",
       "\n",
       "\n",
       "Author A\n",
       "Author B\n",
       "\n",
       "\n",
       "### Why Use This Code?\n",
       "\n",
       "1. **Efficiency**: Using a set comprehension is efficient for collecting unique authors, as it automatically handles duplicates.\n",
       "2. **Clarity**: The syntax is quite clear and expressive. It communicates the intention of retrieving a collection of unique authors from the list of books in one concise line.\n",
       "3. **Generativity**: The use of `yield from` allows the caller to iterate over the authors one at a time, rather than generating a complete list all at once, which can be more memory-efficient if the dataset is large.\n",
       "\n",
       "In summary, the code is a concise way to extract unique, non-empty author names from a list of books, yielding them one at a time through a generator."
      ],
      "text/plain": [
       "<IPython.core.display.Markdown object>"
      ]
     },
     "metadata": {},
     "output_type": "display_data"
    }
   ],
   "source": [
    "# Get gpt-4o-mini to answer, with streaming\n",
    "\n",
    "stream = openai.chat.completions.create(model=MODEL_GPT, messages=messages,stream=True)\n",
    "    \n",
    "response = \"\"\n",
    "display_handle = display(Markdown(\"\"), display_id=True)\n",
    "for chunk in stream:\n",
    "    response += chunk.choices[0].delta.content or ''\n",
    "    response = response.replace(\"```\",\"\").replace(\"markdown\", \"\")\n",
    "    update_display(Markdown(response), display_id=display_handle.display_id)"
   ]
  },
  {
   "cell_type": "code",
   "execution_count": 8,
   "id": "8f7c8ea8-4082-4ad0-8751-3301adcf6538",
   "metadata": {},
   "outputs": [
    {
     "data": {
      "text/markdown": [
       "This line of code uses several advanced features of Python, including:\n",
       "\n",
       "1.  **Generator Expressions**\n",
       "2.  **Dictionary Methods (`get` method)**\n",
       "3.  **List Comprehensions**\n",
       "\n",
       "Let's break it down and understand each component individually.\n",
       "\n",
       "**Code Breakdown:**\n",
       "\n",
       "```python\n",
       "yield from {book.get(\"author\") for book in books if book.get(\"author\")}\n",
       "```\n",
       "\n",
       "-   **Generator Expression:** A generator expression is a compact way to create an iterable (like a list or a dictionary). It uses parentheses `()` instead of square brackets `[]` and the `for` loop.\n",
       "\n",
       "    ```python\n",
       "{expression for variable in iterable if condition}\n",
       "```\n",
       "\n",
       "-   **Dictionary Methods (`get` method):** The `.get()` method is used to retrieve values from dictionaries. If the key doesn't exist, it returns a default value (in this case, `None`).\n",
       "\n",
       "    ```python\n",
       "book.get(\"author\")\n",
       "```\n",
       "\n",
       "    Retrieves the \"author\" value from each book dictionary.\n",
       "\n",
       "-   **List Comprehension:** Although the given expression uses `{}` instead of square brackets `[ ]`, it's actually a generator expression. A list comprehension would look like this:\n",
       "\n",
       "    ```python\n",
       "[expression for variable in iterable if condition]\n",
       "```\n",
       "\n",
       "-   **`yield from` Statement:** This statement is used to \"yield\" items from another generator or iterable (in this case, the dictionary comprehension). It's similar to `yield`, but it yields all items at once from a sub-generator, instead of producing them individually.\n",
       "\n",
       "**How the Code Works:**\n",
       "\n",
       "1.  **Dictionary Comprehension:** `{book.get(\"author\") for book in books if book.get(\"author\")}` creates an iterable (in this case, a dictionary) with author names as values.\n",
       "\n",
       "    -   It iterates over each `book` in the `books` list.\n",
       "    -   For each book, it tries to get its \"author\" value using `.get(\"author\")`.\n",
       "    -   If the \"author\" key doesn't exist (i.e., `book.get(\"author\")` returns `None`), it skips that iteration and moves on to the next one.\n",
       "\n",
       "2.  **`yield from` Statement:** The line `yield from {book.get(\"author\") for book in books if book.get(\"author\")}` uses `yield from` to \"yield\" all values (i.e., author names) from the dictionary comprehension at once.\n",
       "\n",
       "    -   It yields each value directly, without having to retrieve them individually from the dictionary.\n",
       "    -   This can improve performance when dealing with large datasets or dictionaries.\n",
       "\n",
       "**Example:**\n",
       "\n",
       "Let's assume we have a list of books with author information:\n",
       "\n",
       "```python\n",
       "books = [\n",
       "    {\"title\": \"Book 1\", \"author\": \"Author A\"},\n",
       "    {\"title\": \"Book 2\", \"author\": None},  # Missing author info\n",
       "    {\"title\": \"Book 3\", \"author\": \"Author C\"}\n",
       "]\n",
       "\n",
       "for author in yield from {book.get(\"author\") for book in books if book.get(\"author\")}:\n",
       "    print(author)\n",
       "```\n",
       "\n",
       "In this example, the `yield from` statement would output:\n",
       "\n",
       "```\n",
       "Author A\n",
       "None\n",
       "Author C\n",
       "```\n",
       "\n",
       "The `yield from` statement is a powerful tool for processing iterables and can simplify code when dealing with large datasets. However, its effectiveness depends on the specific use case and performance requirements of your application."
      ],
      "text/plain": [
       "<IPython.core.display.Markdown object>"
      ]
     },
     "metadata": {},
     "output_type": "display_data"
    }
   ],
   "source": [
    "# Get Llama 3.2 to answer\n",
    "\n",
    "response = ollama.chat(model=MODEL_LLAMA, messages=messages)\n",
    "reply = response['message']['content']\n",
    "display(Markdown(reply))"
   ]
  },
  {
   "cell_type": "markdown",
   "id": "7e14bcdb-b928-4b14-961e-9f7d8c7335bf",
   "metadata": {},
   "source": [
    "# Congratulations!\n",
    "\n",
    "You could make it better by taking in the question using  \n",
    "`my_question = input(\"Please enter your question:\")`\n",
    "\n",
    "And then creating the prompts and making the calls interactively."
   ]
  },
  {
   "cell_type": "code",
   "execution_count": null,
   "id": "da663d73-dd2a-4fff-84df-2209cf2b330b",
   "metadata": {},
   "outputs": [],
   "source": []
  }
 ],
 "metadata": {
  "kernelspec": {
   "display_name": "llms",
   "language": "python",
   "name": "python3"
  },
  "language_info": {
   "codemirror_mode": {
    "name": "ipython",
    "version": 3
   },
   "file_extension": ".py",
   "mimetype": "text/x-python",
   "name": "python",
   "nbconvert_exporter": "python",
   "pygments_lexer": "ipython3",
   "version": "3.11.11"
  }
 },
 "nbformat": 4,
 "nbformat_minor": 5
}
