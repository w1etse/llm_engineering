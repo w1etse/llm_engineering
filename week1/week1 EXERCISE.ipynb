{
 "cells": [
  {
   "cell_type": "markdown",
   "id": "fe12c203-e6a6-452c-a655-afb8a03a4ff5",
   "metadata": {},
   "source": [
    "# End of week 1 exercise\n",
    "\n",
    "To demonstrate your familiarity with OpenAI API, and also Ollama, build a tool that takes a technical question,  \n",
    "and responds with an explanation. This is a tool that you will be able to use yourself during the course!"
   ]
  },
  {
   "cell_type": "code",
   "execution_count": 12,
   "id": "c1070317-3ed9-4659-abe3-828943230e03",
   "metadata": {},
   "outputs": [],
   "source": [
    "# imports\n",
    "import os\n",
    "import requests\n",
    "import json\n",
    "from typing import List\n",
    "from dotenv import load_dotenv\n",
    "from bs4 import BeautifulSoup\n",
    "from IPython.display import Markdown, display, update_display\n",
    "from openai import OpenAI\n",
    "\n",
    "# import ollama\n",
    "import ollama"
   ]
  },
  {
   "cell_type": "code",
   "execution_count": 2,
   "id": "4a456906-915a-4bfd-bb9d-57e505c5093f",
   "metadata": {},
   "outputs": [],
   "source": [
    "# constants\n",
    "\n",
    "MODEL_GPT = 'gpt-4o-mini'\n",
    "MODEL_LLAMA = 'llama3.2'"
   ]
  },
  {
   "cell_type": "code",
   "execution_count": 4,
   "id": "a8d7923c-5f28-4c30-8556-342d7c8497c1",
   "metadata": {},
   "outputs": [],
   "source": [
    "# set up environment\n",
    "load_dotenv()\n",
    "OPENAI_API_KEY = os.getenv(\"OPENAI_API_KEY\")\n",
    "openai = OpenAI()\n",
    "\n"
   ]
  },
  {
   "cell_type": "code",
   "execution_count": 5,
   "id": "3f0d0137-52b0-47a8-81a8-11a90a010798",
   "metadata": {},
   "outputs": [],
   "source": [
    "# here is the question; type over this to ask something new\n",
    "\n",
    "question = \"\"\"\n",
    "Please explain what this code does and why:\n",
    "yield from {book.get(\"author\") for book in books if book.get(\"author\")}\n",
    "\"\"\""
   ]
  },
  {
   "cell_type": "code",
   "execution_count": 16,
   "id": "60ce7000-a4a5-4cce-a261-e75ef45063b4",
   "metadata": {},
   "outputs": [
    {
     "name": "stdout",
     "output_type": "stream",
     "text": [
      "The code snippet you provided is a Python expression that utilizes a combination of a set comprehension and the `yield from` statement. Let's break it down step-by-step:\n",
      "\n",
      "1. **Set Comprehension**: \n",
      "   - `{book.get(\"author\") for book in books if book.get(\"author\")}`:\n",
      "     - This part creates a set from the `books` iterable. \n",
      "     - It iterates over each `book` in the `books` collection.\n",
      "     - For each `book`, it retrieves its \"author\" value using `book.get(\"author\")`. The `get` method is useful here because it returns `None` (or a specified default value) if the \"author\" key is not found, rather than raising a KeyError.\n",
      "     - The condition `if book.get(\"author\")` ensures that only books that have a non-None (and hence non-empty) \"author\" value are considered.\n",
      "     - The result of this comprehension will be a set of unique author names from the `books`.\n",
      "\n",
      "2. **`yield from`**: \n",
      "   - The `yield from` statement is used to yield all values from a generator or iterable. In this case, it's yielding each unique author from the set created by the set comprehension.\n",
      "   - This means that any function or generator that contains this line would produce a series of author names, one at a time, when iterated over.\n",
      "\n",
      "### Summary\n",
      "Putting it all together, this code:\n",
      "- Extracts the \"author\" attribute from a list (or another iterable) called `books`.\n",
      "- It filters out any `book` entries that do not have an author (either absent or None).\n",
      "- It collects each unique author into a set (eliminating duplicates).\n",
      "- Lastly, it yields each author from this set when called in an appropriate generator function.\n",
      "\n",
      "### Purpose\n",
      "This approach is useful in contexts where you want to efficiently retrieve and process unique author names from a collection of books, especially if the collection may contain duplicates or if you only care about authors present in the books. It provides a lazy evaluation mechanism, meaning that authors are generated one at a time only when needed, which can save on memory when dealing with large datasets.\n"
     ]
    }
   ],
   "source": [
    "# Get gpt-4o-mini to answer, with streaming\n",
    "response = openai.chat.completions.create(\n",
    "    model=MODEL_GPT,\n",
    "    messages=[\n",
    "        {\"role\": \"user\", \"content\": question}\n",
    "  ]\n",
    ")\n",
    "result = response.choices[0].message.content\n",
    "\n",
    "# print the result\n",
    "print(result)\n"
   ]
  },
  {
   "cell_type": "code",
   "execution_count": 17,
   "id": "8f7c8ea8-4082-4ad0-8751-3301adcf6538",
   "metadata": {},
   "outputs": [
    {
     "name": "stdout",
     "output_type": "stream",
     "text": [
      "This line of code uses a combination of Python's yield keyword, dictionary methods (`get`), and list comprehensions. Let's break it down:\n",
      "\n",
      "1. `{...}`: This is an expression that creates a new iterator.\n",
      "2. `book.get(\"author\")`: For each book in the `books` collection (assuming it's an iterable or can be iterated over directly), this code gets the value associated with the key `\"author\"` from the dictionary-like object (`book`). If the key doesn't exist, it returns `None`.\n",
      "3. `{... for book in books if book.get(\"author\")}`: This is a list comprehension that filters out books without an author.\n",
      "\n",
      "Now, let's combine these two parts:\n",
      "\n",
      "`yield from {book.get(\"author\") for book in books if book.get(\"author\")}`\n",
      "\n",
      "This code yields the authors of all books in the `books` collection where the author information exists. Here's what happens when this line is executed:\n",
      "\n",
      "- It iterates over each book in the `books` collection.\n",
      "- For each book, it checks if that book has an author by calling `book.get(\"author\")`.\n",
      "- If the book does have an author (i.e., `book.get(\"author\")` returns a value), its author is yielded.\n",
      "\n",
      "However, there's a twist. The expression `{... for ...}` creates an iterator, not directly yielding values like `yield`. But Python 3.3 and later versions support the syntax `yield from {...}` which \"forward-spreads\" the iteration to the inner iterable, effectively yielding the results of each generator.\n",
      "\n",
      "So, in essence, this code uses a combination of dictionary methods (`get`) and list comprehension with `yield from` to filter books by author information.\n",
      "\n",
      "Here's an example:\n",
      "\n",
      "```python\n",
      "books = [\n",
      "    {\"title\": \"Book A\", \"author\": \"Author X\"},\n",
      "    {\"title\": \"Book B\", \"author\": None},\n",
      "    {\"title\": \"Book C\", \"author\": \"Author Y\"}\n",
      "]\n",
      "\n",
      "for author in yield from {book.get(\"author\") for book in books if book.get(\"author\")}>\n",
      "    print(author)\n",
      "```\n",
      "\n",
      "Output:\n",
      "\n",
      "```python\n",
      "Author X\n",
      "Author Y\n",
      "```\n",
      "\n",
      "Note that the actual output might vary depending on how you actually implement this code.\n"
     ]
    }
   ],
   "source": [
    "# Get Llama 3.2 to answer\n",
    "response = ollama.chat(model=MODEL_LLAMA, messages=[{\"role\": \"user\", \"content\": question}])\n",
    "result = response['message']['content']\n",
    "\n",
    "# print the result\n",
    "print(result)"
   ]
  }
 ],
 "metadata": {
  "kernelspec": {
   "display_name": "llms",
   "language": "python",
   "name": "python3"
  },
  "language_info": {
   "codemirror_mode": {
    "name": "ipython",
    "version": 3
   },
   "file_extension": ".py",
   "mimetype": "text/x-python",
   "name": "python",
   "nbconvert_exporter": "python",
   "pygments_lexer": "ipython3",
   "version": "3.11.11"
  }
 },
 "nbformat": 4,
 "nbformat_minor": 5
}
